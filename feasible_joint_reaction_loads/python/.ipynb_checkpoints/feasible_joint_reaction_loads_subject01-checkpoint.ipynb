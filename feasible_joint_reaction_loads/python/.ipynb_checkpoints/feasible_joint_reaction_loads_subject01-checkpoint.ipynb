{
 "cells": [
  {
   "cell_type": "markdown",
   "metadata": {
    "ein.tags": "worksheet-0",
    "slideshow": {
     "slide_type": "-"
    }
   },
   "source": [
    "# Calculation of the Feasible Joint Reaction Loads"
   ]
  },
  {
   "cell_type": "markdown",
   "metadata": {
    "ein.tags": "worksheet-0",
    "slideshow": {
     "slide_type": "-"
    }
   },
   "source": [
    "The importance of evaluating the feasible muscle forces is demonstrated in the\n",
    "context of joint reaction analysis. An accurate estimation of the muscle forces\n",
    "is essential for the assessment of joint reaction loads. Consequently, the null\n",
    "space muscle forces can significantly alter the reaction forces without\n",
    "affecting the movement. The process is separated into four steps:\n",
    "\n",
    "1. Perform an inverse kinematics (IK), static optimization (SO) and joint\n",
    "reaction analysis (JRA) using OpenSim to generate the required data for the next\n",
    "steps.\n",
    "\n",
    "2. Calculate the feasible muscle forces that satisfy both the action and the\n",
    "physiological constraints of the muscles.\n",
    "\n",
    "3. For each distinct muscle force realization perform a joint reaction analysis.\n",
    "\n",
    "4. Post-process the reaction loads."
   ]
  },
  {
   "cell_type": "code",
   "execution_count": 2,
   "metadata": {
    "autoscroll": false,
    "ein.hycell": false,
    "ein.tags": "worksheet-0",
    "slideshow": {
     "slide_type": "-"
    }
   },
   "outputs": [
    {
     "name": "stdout",
     "output_type": "stream",
     "text": [
      "The autoreload extension is already loaded. To reload it, use:\n",
      "  %reload_ext autoreload\n"
     ]
    }
   ],
   "source": [
    "# notebook general configuration\n",
    "%load_ext autoreload\n",
    "%autoreload 2\n",
    "\n",
    "import os\n",
    "import pickle\n",
    "import numpy as np\n",
    "import sympy as sp\n",
    "from IPython.display import display\n",
    "sp.interactive.printing.init_printing()\n",
    "from tqdm import tqdm\n",
    "import matplotlib.pyplot as plt\n",
    "plt.rcParams['figure.figsize'] = (10.0, 6.0)\n",
    "%matplotlib inline"
   ]
  },
  {
   "cell_type": "markdown",
   "metadata": {
    "ein.tags": "worksheet-0",
    "slideshow": {
     "slide_type": "-"
    }
   },
   "source": [
    "## Subject Data"
   ]
  },
  {
   "cell_type": "markdown",
   "metadata": {
    "ein.tags": "worksheet-0",
    "slideshow": {
     "slide_type": "-"
    }
   },
   "source": [
    "Please provide the following information for the subject under study:\n",
    "\n",
    "- **.osim** the scaled OpenSim model (after scaling the model using a static\n",
    "    pose)\n",
    "\n",
    "- **.trc** the marker trajectories of the movement (based on OpenSim file\n",
    "    requirements)\n",
    "\n",
    "- **.mot** the ground reaction forces (based on the OpenSim file format)\n",
    "\n",
    "- **.xml** describing how to apply the ground reaction forces (based on OpenSim\n",
    "  force requirements)\n",
    "\n",
    "- **.xml** file with the reserve actuator for the SO (based on OpenSim requirements)\n",
    "\n",
    "- **subject mass** (used for scaling the reaction loads, and is not a\n",
    "    requirement)\n",
    "\n",
    "- **heel strike** and **toe off** events (used for annotation of the results,\n",
    "  and are not so important)\n",
    "\n",
    "\n",
    "The following calculations are performed for the *Gait10dof18musc* dataset. The\n",
    "user can also choose between *subject01* (54 muscles) and *subject02* (92\n",
    "muscles) datasets."
   ]
  },
  {
   "cell_type": "code",
   "execution_count": 3,
   "metadata": {
    "autoscroll": false,
    "ein.hycell": false,
    "ein.tags": "worksheet-0",
    "slideshow": {
     "slide_type": "-"
    }
   },
   "outputs": [],
   "source": [
    "# subject data\n",
    "mass = 72.6  # kg\n",
    "g = 9.8  # m/s^2\n",
    "body_weight = mass * g\n",
    "\n",
    "# time events of toe off and heel strike\n",
    "heel_strike_right = [0.65, 1.85]\n",
    "toe_off_right = [0.15, 1.4]\n",
    "heel_strike_left = [0.0, 1.25]\n",
    "toe_off_left = [0.8, 2]\n",
    "\n",
    "# required files and directories\n",
    "subject_dir = os.getcwd() + '/../dataset/subject01/'\n",
    "model_file = subject_dir + 'subject01_scaled.osim'\n",
    "trc_file = subject_dir + 'subject01_walk.trc'\n",
    "grf_file = subject_dir + 'subject01_walk_grf.mot'\n",
    "grf_xml_file = subject_dir + 'subject01_walk_grf.xml'\n",
    "reserve_actuators_file = subject_dir + 'reserve_actuators.xml'\n",
    "results_dir = subject_dir + 'notebook_results/'\n",
    "feasible_set_dir = results_dir + 'feasible_force_set/'\n",
    "jra_results_dir = results_dir + 'joint_reaction_analyses/'\n",
    "figures_dir = results_dir + 'fig/'\n",
    "\n",
    "if not (os.path.isfile(model_file) and\n",
    "        os.path.isfile(trc_file) and\n",
    "        os.path.isfile(grf_file) and\n",
    "        os.path.isfile(grf_xml_file) and\n",
    "        os.path.isfile(reserve_actuators_file)):\n",
    "    raise RuntimeError('required files do not exist')\n",
    "    \n",
    "if not (os.path.isdir(results_dir) and \n",
    "        os.path.isdir(feasible_set_dir) and\n",
    "        os.path.isdir(jra_results_dir) and\n",
    "        os.path.isdir(figures_dir)):\n",
    "    raise RuntimeError('required folders do not exist')"
   ]
  },
  {
   "cell_type": "markdown",
   "metadata": {
    "ein.tags": "worksheet-0",
    "slideshow": {
     "slide_type": "-"
    }
   },
   "source": [
    "## Step 1: Perform Required OpenSim Analyses"
   ]
  },
  {
   "cell_type": "markdown",
   "metadata": {
    "ein.tags": "worksheet-0",
    "slideshow": {
     "slide_type": "-"
    }
   },
   "source": [
    "In order to perform the feasible muscle force calculations, the kinematics and\n",
    "kinetics that satisfy the experimental measured motion and ground reaction\n",
    "forces must be calculated. Furthermore, OpenSim JRA is performed so as to\n",
    "compare the feasible reaction loads in step 4. The following functions make use\n",
    "of the OpenSim IK, SO and RJA analyses."
   ]
  },
  {
   "cell_type": "code",
   "execution_count": null,
   "metadata": {
    "autoscroll": false,
    "ein.hycell": false,
    "ein.tags": "worksheet-0",
    "slideshow": {
     "slide_type": "-"
    }
   },
   "outputs": [],
   "source": [
    "from opensim_utils import perform_ik, perform_so, perform_jra, plot_sto\n",
    "\n",
    "# perform OpenSim inverse kinematics\n",
    "ik_file = perform_ik(model_file, trc_file, results_dir)\n",
    "plot_sto(ik_file, 4, save=True)\n",
    "\n",
    "# perform OpenSim static optimization\n",
    "(so_force_file, so_activation_file) = perform_so(model_file, ik_file, grf_file, \n",
    "                                                 grf_xml_file, reserve_actuators_file, \n",
    "                                                 results_dir)\n",
    "plot_sto(so_force_file, 4, save=True)\n",
    "\n",
    "# perform OpenSim joint reaction analysis\n",
    "jra_file = perform_jra(model_file, ik_file, grf_file, grf_xml_file,\n",
    "                       reserve_actuators_file, so_force_file, results_dir)\n",
    "\n",
    "# store file names so that they can be loaded without running this section\n",
    "pickle.dump((ik_file, so_force_file, jra_file), file(results_dir + 'opensim_files.dat', 'w'))"
   ]
  },
  {
   "cell_type": "code",
   "execution_count": 4,
   "metadata": {},
   "outputs": [],
   "source": [
    "# get file names from step 1\n",
    "(ik_file, so_force_file, jra_file) = pickle.load(file(results_dir + 'opensim_files.dat', 'r'))"
   ]
  },
  {
   "cell_type": "markdown",
   "metadata": {
    "ein.tags": "worksheet-0",
    "slideshow": {
     "slide_type": "-"
    }
   },
   "source": [
    "## Step 2: Calculate the Feasible Muscle Forces"
   ]
  },
  {
   "cell_type": "markdown",
   "metadata": {
    "ein.tags": "worksheet-0",
    "slideshow": {
     "slide_type": "-"
    }
   },
   "source": [
    "The feasible muscle forces are calculated below. Initially, the moment arm and\n",
    "maximum muscle force quantities are computed for each instance of the\n",
    "movement. Then the following inequality is formed assuming a linear muscle model\n",
    "\n",
    "\\begin{equation}\\label{equ:linear-muscle-null-space-inequality}\n",
    "  \\begin{gathered}\n",
    "    f_m = f_{max} \\circ a_m = f_m^{\\parallel} +\n",
    "    N_{R} f_{m0},\\; 0 \\preceq a_m \\preceq 1\n",
    "    \\rightarrow \\\\\n",
    "    \\begin{bmatrix}\n",
    "      - N_{R} \\\\\n",
    "      \\hdashline\n",
    "      N_{R}\n",
    "    \\end{bmatrix}\n",
    "    f_{m0} \\preceq\n",
    "    \\begin{bmatrix}\n",
    "      f_m^{\\parallel} \\\\\n",
    "      \\hdashline\n",
    "      f_{max} - f_m^{\\parallel}\n",
    "    \\end{bmatrix} \\\\\n",
    "    Z f_{m0} \\preceq \\beta\n",
    "  \\end{gathered}\n",
    "\\end{equation}\n",
    "\n",
    "where $a_m \\in \\Re^{m}$ represents a vector of muscle activations, $f_{max} \\in\n",
    "\\Re^{m}$ a vector specifying the maximum muscle forces, $\\circ$ the Hadamard\n",
    "(elementwise) product, $f_m^{\\parallel}$ the particular muscle force solution\n",
    "that satisfies the action, $N_{R}$ the moment arm null space and $f_{m0}$ the\n",
    "null space forces."
   ]
  },
  {
   "cell_type": "code",
   "execution_count": 1,
   "metadata": {},
   "outputs": [
    {
     "data": {
      "application/javascript": [
       "Jupyter.notebook.execute_cells([2, 5, 9])"
      ],
      "text/plain": [
       "<IPython.core.display.Javascript object>"
      ]
     },
     "execution_count": 1,
     "metadata": {},
     "output_type": "execute_result"
    }
   ],
   "source": [
    "# since this section of code may be called independently after step 1\n",
    "# ensure that cells 2, 5 and 9 are evaluated\n",
    "from IPython.display import Javascript\n",
    "Javascript(\"Jupyter.notebook.execute_cells([2, 5, 9])\")"
   ]
  },
  {
   "cell_type": "code",
   "execution_count": 22,
   "metadata": {
    "autoscroll": false,
    "ein.hycell": false,
    "ein.tags": "worksheet-0",
    "slideshow": {
     "slide_type": "-"
    }
   },
   "outputs": [
    {
     "name": "stderr",
     "output_type": "stream",
     "text": [
      "100%|██████████| 151/151 [00:25<00:00,  5.94it/s]\n",
      "100%|██████████| 151/151 [00:00<00:00, 1335.30it/s]\n"
     ]
    }
   ],
   "source": [
    "from opensim_utils import calculate_muscle_data\n",
    "from util import null_space, construct_muscle_space_inequality, \\\n",
    "    convex_bounded_vertex_enumeration, readMotionFile, \\\n",
    "    index_containing_substring, write_as_sto_file\n",
    "    \n",
    "# calculate the moment arm and maximum muscle forces assuming a linear muscle\n",
    "# model (in a future version this can calculate the properties for a nonlinear\n",
    "# muscle model)\n",
    "moment_arm, max_force = calculate_muscle_data(model_file, ik_file)\n",
    "\n",
    "# read SO results\n",
    "so_header, so_labels, so_data = readMotionFile(so_force_file)\n",
    "so_data = np.array(so_data)\n",
    "coordinates = moment_arm[0].shape[0]\n",
    "muscles = moment_arm[0].shape[1]\n",
    "time = so_data[:, 0]\n",
    "entries = time.shape[0]\n",
    "\n",
    "# collect quantities for computing the feasible muscle forces\n",
    "NR = []\n",
    "Z = []\n",
    "b = []\n",
    "fm_par = []\n",
    "for t in tqdm(range(0, entries)):\n",
    "    # get tau, R, Fmax\n",
    "    fm = so_data[t, 1:(muscles + 1)]  # time the first column\n",
    "    RT_temp = moment_arm[t, :, :]\n",
    "    fmax_temp = max_force[t, :]\n",
    "\n",
    "    # calculate the reduced rank (independent columns) null space to avoid\n",
    "    # singularities\n",
    "    NR_temp = null_space(RT_temp)\n",
    "    \n",
    "    # fm_par = fm is used instead of fm_par = -RBarT * tau because the\n",
    "    # muscle may not be able to satisfy the action. In OpenSim reserve\n",
    "    # actuators are used to ensure that Static Optimization can satisfy the\n",
    "    # action. In this case, we ignore the residual forces and assume that fm\n",
    "    # is the minimum effort solution. If the model is able to satisfy the\n",
    "    # action without needing reserve forces then we can use fm_par = -RBarT\n",
    "    # * tau as obtained form Inverse Dynamics.\n",
    "    fm_par_temp = fm\n",
    "\n",
    "    Z_temp, b_temp = construct_muscle_space_inequality(NR_temp,\n",
    "                                                       fm_par_temp,\n",
    "                                                       fmax_temp)\n",
    "\n",
    "    # append results\n",
    "    NR.append(NR_temp)\n",
    "    Z.append(Z_temp)\n",
    "    b.append(b_temp)\n",
    "    fm_par.append(fm_par_temp)"
   ]
  },
  {
   "cell_type": "markdown",
   "metadata": {
    "ein.tags": "worksheet-0",
    "slideshow": {
     "slide_type": "-"
    }
   },
   "source": [
    "The next step is to sample the inequality $Z f_{m0} \\leq \\beta$. This is the\n",
    "bottleneck of the analysis. The *convex_bounded_vertex_enumeration* has three\n",
    "available methods:\n",
    "\n",
    "- lrs: the best available vertex enumeration algorithm for finding the vertices\n",
    "  of a polytope in $O(v m^3)$\n",
    "\n",
    "- cdd: older version of the vertex enumeration algorithm (may not converge on\n",
    "  some problems so prefer using lrs)\n",
    "\n",
    "- rnd: a randomized version that works when the deterministic (lrs, cdd)\n",
    "  algorithms fail to find a solution in a short period of time. When the model\n",
    "  has more than 20 or 30 muscle make use of this method. Note however, that the\n",
    "  space may not be sampled sufficiently."
   ]
  },
  {
   "cell_type": "code",
   "execution_count": 6,
   "metadata": {
    "autoscroll": false,
    "ein.hycell": false,
    "ein.tags": "worksheet-0",
    "slideshow": {
     "slide_type": "-"
    }
   },
   "outputs": [
    {
     "name": "stderr",
     "output_type": "stream",
     "text": [
      " 23%|██▎       | 35/151 [24:43<1:21:57, 42.39s/it]"
     ]
    },
    {
     "name": "stdout",
     "output_type": "stream",
     "text": [
      "inequlity is infeasible thus append previous iteration\n"
     ]
    },
    {
     "name": "stderr",
     "output_type": "stream",
     "text": [
      "\r",
      " 24%|██▍       | 36/151 [24:45<1:19:06, 41.27s/it]"
     ]
    },
    {
     "name": "stdout",
     "output_type": "stream",
     "text": [
      "inequlity is infeasible thus append previous iteration\n"
     ]
    },
    {
     "name": "stderr",
     "output_type": "stream",
     "text": [
      " 25%|██▌       | 38/151 [25:52<1:16:56, 40.85s/it]"
     ]
    },
    {
     "name": "stdout",
     "output_type": "stream",
     "text": [
      "inequlity is infeasible thus append previous iteration\n"
     ]
    },
    {
     "name": "stderr",
     "output_type": "stream",
     "text": [
      "\r",
      " 26%|██▌       | 39/151 [25:55<1:14:26, 39.88s/it]"
     ]
    },
    {
     "name": "stdout",
     "output_type": "stream",
     "text": [
      "inequlity is infeasible thus append previous iteration\n"
     ]
    },
    {
     "name": "stderr",
     "output_type": "stream",
     "text": [
      " 72%|███████▏  | 109/151 [1:17:16<29:46, 42.54s/it]"
     ]
    },
    {
     "name": "stdout",
     "output_type": "stream",
     "text": [
      "inequlity is infeasible thus append previous iteration\n"
     ]
    },
    {
     "name": "stderr",
     "output_type": "stream",
     "text": [
      "\r",
      " 73%|███████▎  | 110/151 [1:17:19<28:49, 42.18s/it]"
     ]
    },
    {
     "name": "stdout",
     "output_type": "stream",
     "text": [
      "inequlity is infeasible thus append previous iteration\n"
     ]
    },
    {
     "name": "stderr",
     "output_type": "stream",
     "text": [
      "\r",
      " 74%|███████▎  | 111/151 [1:17:22<27:52, 41.82s/it]"
     ]
    },
    {
     "name": "stdout",
     "output_type": "stream",
     "text": [
      "inequlity is infeasible thus append previous iteration\n"
     ]
    },
    {
     "name": "stderr",
     "output_type": "stream",
     "text": [
      "\r",
      " 74%|███████▍  | 112/151 [1:17:24<26:57, 41.47s/it]"
     ]
    },
    {
     "name": "stdout",
     "output_type": "stream",
     "text": [
      "inequlity is infeasible thus append previous iteration\n"
     ]
    },
    {
     "name": "stderr",
     "output_type": "stream",
     "text": [
      "\r",
      " 75%|███████▍  | 113/151 [1:17:27<26:02, 41.12s/it]"
     ]
    },
    {
     "name": "stdout",
     "output_type": "stream",
     "text": [
      "inequlity is infeasible thus append previous iteration\n"
     ]
    },
    {
     "name": "stderr",
     "output_type": "stream",
     "text": [
      "100%|██████████| 151/151 [1:46:13<00:00, 42.21s/it]\n"
     ]
    }
   ],
   "source": [
    "# calculate the feasible muscle force set by sampling the inequality\n",
    "f_set = []\n",
    "for t in tqdm(range(0, entries)):\n",
    "    try:\n",
    "        fs = convex_bounded_vertex_enumeration(Z[t], b[t][:, 0], 0, method='rnd')\n",
    "    except:\n",
    "        print('inequlity is infeasible thus append previous iteration')\n",
    "        f_set.append(f_set[-1])\n",
    "        continue\n",
    "        \n",
    "    temp = []\n",
    "    for i in range(0, fs.shape[0]):\n",
    "        temp.append(fm_par[t] + NR[t].dot(fs[i, :]))\n",
    "\n",
    "    f_set.append(temp)\n",
    "\n",
    "# serialization f_set -> [time x feasible force set set x muscles] so as to\n",
    "# avoid recomputing it\n",
    "pickle.dump(f_set, file(feasible_set_dir + 'f_set.dat', 'w'))"
   ]
  },
  {
   "cell_type": "markdown",
   "metadata": {
    "ein.tags": "worksheet-0",
    "slideshow": {
     "slide_type": "-"
    }
   },
   "source": [
    "Finally, store the feasible muscle force set into multiple .sto files that can\n",
    "be used by the JRA."
   ]
  },
  {
   "cell_type": "code",
   "execution_count": 7,
   "metadata": {
    "autoscroll": false,
    "ein.hycell": false,
    "ein.tags": "worksheet-0",
    "slideshow": {
     "slide_type": "-"
    }
   },
   "outputs": [
    {
     "name": "stderr",
     "output_type": "stream",
     "text": [
      "100%|██████████| 1521/1521 [00:18<00:00, 81.40it/s]\n"
     ]
    }
   ],
   "source": [
    "# keep only muscle forces\n",
    "idx = index_containing_substring(so_labels, 'FX')[0]\n",
    "labels = so_labels[:idx]\n",
    "\n",
    "# find largest feasible set\n",
    "S = len(f_set[0])\n",
    "for fs in f_set:\n",
    "    if len(fs) > S:\n",
    "        S = len(fs)\n",
    "\n",
    "# export muscle force realizations\n",
    "for j in tqdm(range(0, S)):\n",
    "    data_temp = []\n",
    "    for i in range(0, so_data.shape[0]):\n",
    "        data_temp.append(f_set[i][j % len(f_set[i])])\n",
    "\n",
    "    write_as_sto_file(feasible_set_dir + str(j) + '.sto', labels,\n",
    "                      time, np.array(data_temp))"
   ]
  },
  {
   "cell_type": "markdown",
   "metadata": {
    "ein.tags": "worksheet-0",
    "slideshow": {
     "slide_type": "-"
    }
   },
   "source": [
    "## Step 3: Perform Joint Reaction Analyses on Feasible Muscle Forces"
   ]
  },
  {
   "cell_type": "markdown",
   "metadata": {
    "ein.tags": "worksheet-0",
    "slideshow": {
     "slide_type": "-"
    }
   },
   "source": [
    "For each distinct muscle force realization computed in the previous step\n",
    "initiate a JRA so as to calculate the influence of the muscle forces on the\n",
    "joint reaction loads. Due to memory leaks in OpenSim JRA implementation this\n",
    "process must be restarted since it can cause problems with the RAM usage. The if\n",
    "statement is used so as to continue from the last performed analysis."
   ]
  },
  {
   "cell_type": "code",
   "execution_count": 1,
   "metadata": {},
   "outputs": [
    {
     "data": {
      "application/javascript": [
       "Jupyter.notebook.execute_cells([2, 5, 9])"
      ],
      "text/plain": [
       "<IPython.core.display.Javascript object>"
      ]
     },
     "execution_count": 1,
     "metadata": {},
     "output_type": "execute_result"
    }
   ],
   "source": [
    "# since this section of code may be called independently after step 2\n",
    "# ensure that cells 2, 5 and 9 are evaluated\n",
    "from IPython.display import Javascript\n",
    "Javascript(\"Jupyter.notebook.execute_cells([2, 5, 9])\")"
   ]
  },
  {
   "cell_type": "code",
   "execution_count": 5,
   "metadata": {
    "autoscroll": false,
    "ein.hycell": false,
    "ein.tags": "worksheet-0",
    "slideshow": {
     "slide_type": "-"
    }
   },
   "outputs": [
    {
     "name": "stderr",
     "output_type": "stream",
     "text": [
      "100%|██████████| 1521/1521 [02:45<00:00,  9.19it/s]  \n"
     ]
    }
   ],
   "source": [
    "from opensim_utils import perform_jra\n",
    "\n",
    "# get all files in the directory\n",
    "feasible_force_files = os.listdir(feasible_set_dir)\n",
    "\n",
    "# remove files that are not .sto\n",
    "feasible_force_files = [e for e in feasible_force_files if '.sto' in e]\n",
    "\n",
    "# perform joint reaction analyses\n",
    "previous_iteration = 1400\n",
    "for i, force_file in enumerate(tqdm(feasible_force_files)):\n",
    "    # change the previous_iteration variable\n",
    "    if i < previous_iteration:\n",
    "         continue\n",
    "\n",
    "    if i > previous_iteration + 200:\n",
    "        print('please shutdown this notebook and reopen (RAM usage problem)')\n",
    "        print('set previous_iteration=' + str(previous_iteration + 200))\n",
    "        break\n",
    "        \n",
    "    perform_jra(model_file, ik_file, grf_file, grf_xml_file,\n",
    "                reserve_actuators_file, feasible_set_dir + force_file,\n",
    "                jra_results_dir, prefix=str(i) + '_')"
   ]
  },
  {
   "cell_type": "markdown",
   "metadata": {
    "ein.tags": "worksheet-0",
    "slideshow": {
     "slide_type": "-"
    }
   },
   "source": [
    "## Step 4: Postprocess Joint Reaction Loads"
   ]
  },
  {
   "cell_type": "markdown",
   "metadata": {
    "ein.tags": "worksheet-0",
    "slideshow": {
     "slide_type": "-"
    }
   },
   "source": [
    "This section collects the joint reaction loads calculated in the previous step."
   ]
  },
  {
   "cell_type": "code",
   "execution_count": 1,
   "metadata": {},
   "outputs": [
    {
     "data": {
      "application/javascript": [
       "Jupyter.notebook.execute_cells([2, 5, 9])"
      ],
      "text/plain": [
       "<IPython.core.display.Javascript object>"
      ]
     },
     "execution_count": 1,
     "metadata": {},
     "output_type": "execute_result"
    }
   ],
   "source": [
    "# since this section of code may be called independently after step 3\n",
    "# ensure that cells 2, 5 and 9 are evaluated\n",
    "from IPython.display import Javascript\n",
    "Javascript(\"Jupyter.notebook.execute_cells([2, 5, 9])\")"
   ]
  },
  {
   "cell_type": "code",
   "execution_count": 24,
   "metadata": {
    "autoscroll": false,
    "ein.hycell": false,
    "ein.tags": "worksheet-0",
    "slideshow": {
     "slide_type": "-"
    }
   },
   "outputs": [
    {
     "name": "stderr",
     "output_type": "stream",
     "text": [
      "100%|██████████| 1521/1521 [00:10<00:00, 141.30it/s]\n"
     ]
    }
   ],
   "source": [
    "from util import readMotionFile, index_containing_substring\n",
    "\n",
    "# select the joint of interest\n",
    "joint = 'hip_r'\n",
    "\n",
    "# load OpenSim JRA results (step 1)\n",
    "os_header, os_labels, os_data = readMotionFile(jra_file)\n",
    "os_data = np.array(os_data)\n",
    "joint_index = index_containing_substring(os_labels, joint)\n",
    "assert(joint_index != -1)\n",
    "\n",
    "# get all files from the JRA batch simulation (step 3)\n",
    "jra_files = os.listdir(jra_results_dir)\n",
    "\n",
    "# remove files that are not joint reactions\n",
    "jra_files = [e for e in jra_files if 'ReactionLoads' in e]\n",
    "        \n",
    "# allocate the necessary space to collect all results\n",
    "solutions_to_keep = len(jra_files)\n",
    "simulationData = np.empty([solutions_to_keep,\n",
    "                           os_data.shape[0],\n",
    "                           os_data.shape[1]],\n",
    "                          dtype=float)\n",
    "\n",
    "# collect reaction loads\n",
    "for i, f in enumerate(tqdm(jra_files)):\n",
    "    header, labels, data = readMotionFile(jra_results_dir + f)\n",
    "    simulationData[i, :, :] = np.array(data)"
   ]
  },
  {
   "cell_type": "code",
   "execution_count": 25,
   "metadata": {},
   "outputs": [
    {
     "name": "stdout",
     "output_type": "stream",
     "text": [
      "/home/mitkof6/dev/MuscleSpaceJournal/scripts/feasible_joint_reaction_loads/python/../dataset/subject01/notebook_results/joint_reaction_analyses/\n"
     ]
    },
    {
     "data": {
      "text/plain": [
       "[<matplotlib.lines.Line2D at 0x7f8da8091650>]"
      ]
     },
     "execution_count": 25,
     "metadata": {},
     "output_type": "execute_result"
    },
    {
     "data": {
      "image/png": "[encoded data removed]",
      "text/plain": [
       "<Figure size 432x288 with 1 Axes>"
      ]
     },
     "metadata": {},
     "output_type": "display_data"
    }
   ],
   "source": [
    "print jra_results_dir\n",
    "plt.plot(simulationData[0, :, 0], simulationData[0, :, joint_index[0]])\n",
    "plt.plot(simulationData[0, :, 0], simulationData[1210, :, joint_index[0]])"
   ]
  },
  {
   "cell_type": "markdown",
   "metadata": {
    "ein.tags": "worksheet-0",
    "slideshow": {
     "slide_type": "-"
    }
   },
   "source": [
    "The following section of code compares the feasible and OpenSim reaction loads\n",
    "for the joint of interest. The reaction loads are normalized using the body\n",
    "weight of the subject. The heel strike and toe off events are annotated\n",
    "accordingly."
   ]
  },
  {
   "cell_type": "code",
   "execution_count": 8,
   "metadata": {
    "autoscroll": false,
    "ein.hycell": false,
    "ein.tags": "worksheet-0",
    "slideshow": {
     "slide_type": "-"
    }
   },
   "outputs": [
    {
     "data": {
      "image/png": "[encoded data removed]",
      "text/plain": [
       "<Figure size 1080x360 with 3 Axes>"
      ]
     },
     "metadata": {},
     "output_type": "display_data"
    }
   ],
   "source": [
    "# select the heel strike and toe off events\n",
    "if '_l' in joint:\n",
    "    heel_strike = heel_strike_left\n",
    "    toe_off = toe_off_left\n",
    "else:\n",
    "    heel_strike = heel_strike_right\n",
    "    toe_off = toe_off_right\n",
    "\n",
    "# plot data min/max reactions vs OpenSim JRA\n",
    "joints = 3\n",
    "fig, ax = plt.subplots(nrows=1, ncols=joints, figsize=(15, 5))\n",
    "for i in range(0, joints):\n",
    "    # plot feasible reaction loads\n",
    "    min_reaction = np.min(simulationData[1:, 1:, joint_index[i]] / body_weight, \n",
    "                          axis=0)\n",
    "    max_reaction = np.max(simulationData[1:, 1:, joint_index[i]] / body_weight, \n",
    "                          axis=0)\n",
    "    ax[i].fill_between(os_data[1:, 0], min_reaction, max_reaction, \n",
    "                       color='b', alpha=0.2, label='Feasible Reactions')\n",
    "    # plot OpenSim reaction loads\n",
    "    ax[i].plot(os_data[1:, 0], os_data[1:, joint_index[i]] / body_weight,\n",
    "               '-.r', label='OpenSim JRA')\n",
    "    # annotate the heel strike and toe off regions\n",
    "    min_min = np.min(min_reaction)\n",
    "    max_max = np.max(max_reaction)\n",
    "    ax[i].vlines(x=heel_strike, ymin=min_min, ymax=max_max,\n",
    "                 color='c', linestyle='--', label='HS')\n",
    "    ax[i].vlines(x=toe_off, ymin=min_min, ymax=max_max,\n",
    "                 color='m', linestyle=':', label='TO')\n",
    "    # figure settings\n",
    "    ax[i].set_title(os_labels[joint_index[i]])\n",
    "    ax[i].set_xlabel('time (s)')\n",
    "    ax[i].set_ylabel('reaction / body weight')\n",
    "    if i == joints - 1:\n",
    "        ax[i].legend()\n",
    "\n",
    "# export results\n",
    "fig.tight_layout()\n",
    "fig.savefig(figures_dir + joint + '.pdf',\n",
    "            format='pdf', dpi=300)\n",
    "fig.savefig(figures_dir + joint + '.png',\n",
    "            format='png', dpi=300)\n",
    "# fig.show()"
   ]
  },
  {
   "cell_type": "markdown",
   "metadata": {
    "ein.tags": "worksheet-0",
    "slideshow": {
     "slide_type": "-"
    }
   },
   "source": [
    "We observe that the results obtained from OpenSim joint reaction analysis\n",
    "predict low reaction load levels, since the minimum muscle effort criterion is\n",
    "used to compute the muscle forces, ignoring muscle co-contraction. On the\n",
    "contrary, it is possible to calculate the feasible reactions without making any\n",
    "prior assumption, which can limit the scope and extent of the analysis. Last and\n",
    "perhaps most importantly, the large range of possible values confirms that\n",
    "misinterpretation of the results is possible if the null space solutions are\n",
    "ignored."
   ]
  }
 ],
 "metadata": {
  "kernelspec": {
   "display_name": "Python 2",
   "language": "python2",
   "name": "python2"
  },
  "language_info": {
   "codemirror_mode": {
    "name": "ipython",
    "version": 2
   },
   "file_extension": ".py",
   "mimetype": "text/x-python",
   "name": "python",
   "nbconvert_exporter": "python",
   "pygments_lexer": "ipython2",
   "version": "2.7.15"
  },
  "name": "feasible_joint_reaction_loads.ipynb"
 },
 "nbformat": 4,
 "nbformat_minor": 2
}
